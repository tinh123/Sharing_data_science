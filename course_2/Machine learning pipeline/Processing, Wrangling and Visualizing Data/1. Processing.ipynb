{
 "cells": [
  {
   "cell_type": "markdown",
   "metadata": {},
   "source": [
    "# The machine learning pipeline \n",
    "## 1. Processing\n"
   ]
  },
  {
   "cell_type": "markdown",
   "metadata": {},
   "source": [
    "#### Data operations in numpy"
   ]
  },
  {
   "cell_type": "code",
   "execution_count": 3,
   "metadata": {},
   "outputs": [
    {
     "name": "stdout",
     "output_type": "stream",
     "text": [
      "more than one dimensions\n",
      "[[1 2]\n",
      " [3 4]\n",
      " [5 6]]\n",
      "minimum dimensions\n",
      "[[1 2 3 4 5 6]]\n",
      "dtype parameter\n",
      "[1.+0.j 2.+0.j 3.+0.j]\n"
     ]
    }
   ],
   "source": [
    "\n",
    "# more than one dimensions \n",
    "import numpy as np \n",
    "a = np.array([[1, 2], [3, 4], [5, 6]]) \n",
    "print('more than one dimensions')\n",
    "print(a)\n",
    "# minimum dimensions \n",
    "a = np.array([1, 2, 3,4,5,6], ndmin = 2) \n",
    "print('minimum dimensions')\n",
    "print(a)\n",
    "# dtype parameter \n",
    "a = np.array([1, 2, 3], dtype = complex) \n",
    "print('dtype parameter')\n",
    "print(a)"
   ]
  },
  {
   "cell_type": "code",
   "execution_count": 2,
   "metadata": {},
   "outputs": [
    {
     "name": "stdout",
     "output_type": "stream",
     "text": [
      "Simple Data Frame\n",
      "      0   1   2\n",
      "0   71  72  73\n",
      "1   77  78  70\n",
      "2   79  72  73\n",
      "3   74  78  70\n",
      "4   71  88  73\n",
      "5   77  68  70\n",
      "6   71  72  73\n",
      "7   77  78  70\n",
      "8   79  72  73\n",
      "9   74  78  70\n",
      "10  71  88  73\n",
      "11  77  68  70\n",
      "Header Data Frame\n",
      "     Jan  Feb  Mar\n",
      "0    71   72   73\n",
      "1    77   78   70\n",
      "2    79   72   73\n",
      "3    74   78   70\n",
      "4    71   88   73\n",
      "5    77   68   70\n",
      "6    71   72   73\n",
      "7    77   78   70\n",
      "8    79   72   73\n",
      "9    74   78   70\n",
      "10   71   88   73\n",
      "11   77   68   70\n",
      "Fetch unic record\n",
      " 72\n",
      "First five rows are\n",
      "\n",
      "    0   1   2\n",
      "0  71  72  73\n",
      "1  77  78  70\n",
      "2  79  72  73\n",
      "3  74  78  70\n",
      "4  71  88  73\n",
      "Last five rows are\n",
      "\n",
      "     0   1   2\n",
      "7   77  78  70\n",
      "8   79  72  73\n",
      "9   74  78  70\n",
      "10  71  88  73\n",
      "11  77  68  70\n",
      "Last five rows with header\n",
      "\n",
      "    Jan  Feb  Mar\n",
      "7    77   78   70\n",
      "8    79   72   73\n",
      "9    74   78   70\n",
      "10   71   88   73\n",
      "11   77   68   70\n"
     ]
    }
   ],
   "source": [
    "import pandas as pd\n",
    "prices=[ \n",
    "         [71,72,73],[77,78,70],[79,72,73],\n",
    "         [74,78,70],[71,88,73],[77,68,70],\n",
    "         [71,72,73],[77,78,70],[79,72,73],\n",
    "         [74,78,70],[71,88,73],[77,68,70]\n",
    "        ]\n",
    "simple_dataframe=pd.DataFrame(prices)\n",
    "print(\"Simple Data Frame\\n\",simple_dataframe)\n",
    "header_dataframe=pd.DataFrame(prices,columns=['Jan','Feb','Mar'])\n",
    "print(\"Header Data Frame\\n\",header_dataframe)\n",
    "print(\"Fetch unic record\\n\",header_dataframe['Feb'][0])\n",
    "print(\"First five rows are\\n\")\n",
    "print(simple_dataframe.head())\n",
    "print(\"Last five rows are\\n\")\n",
    "print(simple_dataframe.tail())\n",
    "print(\"Last five rows with header\\n\")\n",
    "print(header_dataframe.tail())\n"
   ]
  },
  {
   "cell_type": "markdown",
   "metadata": {},
   "source": [
    "#### Data cleanings"
   ]
  },
  {
   "cell_type": "code",
   "execution_count": 5,
   "metadata": {},
   "outputs": [
    {
     "name": "stdout",
     "output_type": "stream",
     "text": [
      "Generate random data: [[ 0.14937393 -0.10407521 -0.31522088]\n",
      " [ 0.93238994 -1.29169207  1.02748957]\n",
      " [-1.14666173  0.00576266  0.81772229]\n",
      " [-0.67107769  2.29148439  0.42212297]\n",
      " [ 0.36860802  1.20143939 -0.62375188]]\n",
      "Created dataframe:          one       two     three\n",
      "a  0.149374 -0.104075 -0.315221\n",
      "c  0.932390 -1.291692  1.027490\n",
      "e -1.146662  0.005763  0.817722\n",
      "f -0.671078  2.291484  0.422123\n",
      "h  0.368608  1.201439 -0.623752\n",
      "Reindex:         one       two     three\n",
      "a  0.149374 -0.104075 -0.315221\n",
      "b       NaN       NaN       NaN\n",
      "c  0.932390 -1.291692  1.027490\n",
      "d       NaN       NaN       NaN\n",
      "e -1.146662  0.005763  0.817722\n",
      "f -0.671078  2.291484  0.422123\n",
      "g       NaN       NaN       NaN\n",
      "h  0.368608  1.201439 -0.623752\n"
     ]
    }
   ],
   "source": [
    "#generate an examples data\n",
    "import pandas as pd\n",
    "import numpy as np\n",
    "df=np.random.randn(5, 3)\n",
    "print('Generate random data:' ,df)\n",
    "df = pd.DataFrame(df, index=['a', 'c', 'e', 'f', 'h'],columns=['one', 'two', 'three'])\n",
    "print('Created dataframe: ',df)\n",
    "df = df.reindex(['a', 'b', 'c', 'd', 'e', 'f', 'g', 'h'])\n",
    "print('Reindex:',df)"
   ]
  },
  {
   "cell_type": "code",
   "execution_count": 6,
   "metadata": {},
   "outputs": [
    {
     "name": "stdout",
     "output_type": "stream",
     "text": [
      "a    False\n",
      "b     True\n",
      "c    False\n",
      "d     True\n",
      "e    False\n",
      "f    False\n",
      "g     True\n",
      "h    False\n",
      "Name: one, dtype: bool\n"
     ]
    }
   ],
   "source": [
    "# Check for Missing Values\n",
    "import pandas as pd\n",
    "import numpy as np\n",
    " \n",
    "df = pd.DataFrame(np.random.randn(5, 3), index=['a', 'c', 'e', 'f',\n",
    "'h'],columns=['one', 'two', 'three'])\n",
    "\n",
    "df = df.reindex(['a', 'b', 'c', 'd', 'e', 'f', 'g', 'h'])\n",
    "print(df['one'].isnull())"
   ]
  },
  {
   "cell_type": "code",
   "execution_count": 7,
   "metadata": {},
   "outputs": [
    {
     "name": "stdout",
     "output_type": "stream",
     "text": [
      "        one       two     three\n",
      "a  0.244636  0.004951 -0.441201\n",
      "c -1.961109  1.310292 -0.253309\n",
      "e  0.197359  0.114193 -0.171315\n",
      "        one       two     three\n",
      "a  0.244636  0.004951 -0.441201\n",
      "b       NaN       NaN       NaN\n",
      "c -1.961109  1.310292 -0.253309\n",
      "NaN replaced with '0':\n",
      "        one       two     three\n",
      "a  0.244636  0.004951 -0.441201\n",
      "b  0.000000  0.000000  0.000000\n",
      "c -1.961109  1.310292 -0.253309\n"
     ]
    }
   ],
   "source": [
    "# Cleaning / Filling Missing Data\n",
    "import pandas as pd\n",
    "import numpy as np\n",
    "df = pd.DataFrame(np.random.randn(3, 3), index=['a', 'c', 'e'],columns=['one','two', 'three'])\n",
    "print(df)\n",
    "df = df.reindex(['a', 'b', 'c'])\n",
    "print(df)\n",
    "print (\"NaN replaced with '0':\")\n",
    "print(df.fillna(0))"
   ]
  },
  {
   "cell_type": "code",
   "execution_count": 8,
   "metadata": {},
   "outputs": [
    {
     "name": "stdout",
     "output_type": "stream",
     "text": [
      "Using fill methods\n",
      "        one       two     three\n",
      "a -0.313059  0.313396  0.820121\n",
      "b -0.313059  0.313396  0.820121\n",
      "c -0.154770 -0.968054  0.179198\n",
      "d -0.154770 -0.968054  0.179198\n",
      "e  0.845823  0.826616  0.094818\n",
      "f -1.017472 -0.289387 -0.184677\n",
      "g -1.017472 -0.289387 -0.184677\n",
      "h  0.593381  0.350253 -1.146741\n",
      "Replace all NaN elements with 0s.\n",
      "        one       two     three\n",
      "a -0.313059  0.313396  0.820121\n",
      "b  0.000000  0.000000  0.000000\n",
      "c -0.154770 -0.968054  0.179198\n",
      "d  0.000000  0.000000  0.000000\n",
      "e  0.845823  0.826616  0.094818\n",
      "f -1.017472 -0.289387 -0.184677\n",
      "g  0.000000  0.000000  0.000000\n",
      "h  0.593381  0.350253 -1.146741\n",
      "        one       two     three\n",
      "a -0.313059  0.313396  0.820121\n",
      "b -0.313059  0.313396  0.820121\n",
      "c -0.154770 -0.968054  0.179198\n",
      "d -0.154770 -0.968054  0.179198\n",
      "e  0.845823  0.826616  0.094818\n",
      "f -1.017472 -0.289387 -0.184677\n",
      "g -1.017472 -0.289387 -0.184677\n",
      "h  0.593381  0.350253 -1.146741\n",
      "        one       two     three\n",
      "a -0.313059  0.313396  0.820121\n",
      "b       NaN       NaN       NaN\n",
      "c -0.154770 -0.968054  0.179198\n",
      "d       NaN       NaN       NaN\n",
      "e  0.845823  0.826616  0.094818\n",
      "f -1.017472 -0.289387 -0.184677\n",
      "g       NaN       NaN       NaN\n",
      "h  0.593381  0.350253 -1.146741\n"
     ]
    }
   ],
   "source": [
    "# Fill NA Forward and Backward\n",
    "import pandas as pd\n",
    "import numpy as np\n",
    "df = pd.DataFrame(np.random.randn(5, 3), index=['a', 'c', 'e', 'f',\n",
    "'h'],columns=['one', 'two', 'three'])\n",
    "df = df.reindex(['a', 'b', 'c', 'd', 'e', 'f', 'g', 'h'])\n",
    "print('Using fill methods')\n",
    "print(df.fillna(method='pad'))\n",
    "print('Replace all NaN elements with 0s.')\n",
    "print(df.fillna(0))\n",
    "print(df.fillna(method='ffill'))\n",
    "values = {'A': 0, 'B': 1, 'C': 2, 'D': 3}\n",
    "print(df.fillna(value=values))"
   ]
  },
  {
   "cell_type": "markdown",
   "metadata": {},
   "source": [
    "### See dealing with missing values notebook examples"
   ]
  },
  {
   "cell_type": "code",
   "execution_count": 11,
   "metadata": {},
   "outputs": [
    {
     "name": "stdout",
     "output_type": "stream",
     "text": [
      "        one       two     three\n",
      "a  1.702012  1.951531  0.759594\n",
      "c -0.978566  0.327051  0.769759\n",
      "e  0.293319  0.283355  1.261603\n",
      "f  0.256739 -0.015344 -0.193123\n",
      "h  0.761929 -0.270097  0.081532\n",
      "        one       two     three\n",
      "a  1.702012  1.951531  0.759594\n",
      "b       NaN       NaN       NaN\n",
      "c -0.978566  0.327051  0.769759\n",
      "d       NaN       NaN       NaN\n",
      "e  0.293319  0.283355  1.261603\n",
      "f  0.256739 -0.015344 -0.193123\n",
      "g       NaN       NaN       NaN\n",
      "h  0.761929 -0.270097  0.081532\n",
      "Drop NaN:         one       two     three\n",
      "a  1.702012  1.951531  0.759594\n",
      "c -0.978566  0.327051  0.769759\n",
      "e  0.293319  0.283355  1.261603\n",
      "f  0.256739 -0.015344 -0.193123\n",
      "h  0.761929 -0.270097  0.081532\n"
     ]
    }
   ],
   "source": [
    "# Drop Missing Values\n",
    "import pandas as pd\n",
    "import numpy as np\n",
    "df = pd.DataFrame(np.random.randn(5, 3), index=['a', 'c', 'e', 'f','h'],columns=['one', 'two', 'three'])\n",
    "print(df)\n",
    "df = df.reindex(['a', 'b', 'c', 'd', 'e', 'f', 'g', 'h'])\n",
    "print(df)\n",
    "print(\"Drop NaN:\",df.dropna())"
   ]
  },
  {
   "cell_type": "code",
   "execution_count": 15,
   "metadata": {},
   "outputs": [
    {
     "name": "stdout",
     "output_type": "stream",
     "text": [
      "The DateTime Today is  : 2020-03-02 10:42:48.046771\n",
      "The Date Today is  : 2020-03-02\n",
      "This Year  : 2020\n",
      "This Month  : 3\n",
      "This Day  : 2\n",
      "Day Name  : Monday\n",
      "Month Name  : March\n"
     ]
    }
   ],
   "source": [
    "#date time values  \n",
    "import datetime\n",
    "print ('The DateTime Today is  :', datetime.datetime.today())\n",
    "print ('The Date Today is  :', datetime.date.today())\n",
    "print ('This Year  :', datetime.date.today().year)\n",
    "print ('This Month  :', datetime.date.today().month)\n",
    "print ('This Day  :', datetime.date.today().day)\n",
    "print ('Day Name  :', datetime.date.today().strftime('%A'))\n",
    "print ('Month Name  :', datetime.date.today().strftime('%B'))"
   ]
  },
  {
   "cell_type": "code",
   "execution_count": 16,
   "metadata": {},
   "outputs": [
    {
     "name": "stdout",
     "output_type": "stream",
     "text": [
      "day1: Mon Feb 12 00:00:00 2018\n",
      "day2: Fri Aug 18 00:00:00 2017\n",
      "Number of Days: 178 days, 0:00:00\n",
      "delta of Six Days 6 days, 0:00:00\n",
      "Before Six Days: 2020-02-25\n",
      "After Six Days: 2020-03-08\n"
     ]
    }
   ],
   "source": [
    "import datetime\n",
    "#Capture the First Date\n",
    "day1 = datetime.date(2018, 2, 12)\n",
    "#print('day1:', datetime.date(2018, 2, 12).ctime())\n",
    "print('day1:', day1.ctime())\n",
    "# Capture the Second Date\n",
    "day2 = datetime.date(2017, 8, 18)\n",
    "print('day2:', day2.ctime())\n",
    "# Find the difference between the dates\n",
    "print('Number of Days:', day1-day2)\n",
    "date_today  = datetime.date.today() \n",
    "# Create a delta of 6 Days \n",
    "no_of_days = datetime.timedelta(days=6)\n",
    "print('delta of Six Days',no_of_days) \n",
    "# Use Delta for Past Date\n",
    "before_six_days = date_today - no_of_days \n",
    "print('Before Six Days:', before_six_days)\n",
    "# Use Delta for future Date\n",
    "after_six_days = date_today + no_of_days \n",
    "print('After Six Days:', after_six_days) "
   ]
  },
  {
   "cell_type": "code",
   "execution_count": 17,
   "metadata": {},
   "outputs": [
    {
     "name": "stdout",
     "output_type": "stream",
     "text": [
      "Today is:  2020-03-02\n",
      "delta of Six Days 6 days, 0:00:00\n",
      "Before Six Days: 2020-02-25\n",
      "date1: 2018-12-23\n",
      "Past Date\n",
      "Future Date\n"
     ]
    }
   ],
   "source": [
    "import datetime\n",
    "date_today  = datetime.date.today() \n",
    "print('Today is: ', date_today)\n",
    "# Create a delta of 6 Days \n",
    "no_of_days = datetime.timedelta(days=6)\n",
    "print('delta of Six Days',no_of_days) \n",
    "# Use Delta for Past Date\n",
    "before_six_days = date_today - no_of_days \n",
    "print('Before Six Days:', before_six_days)\n",
    "# Use Delta for future Date\n",
    "after_six_days = date_today + no_of_days\n",
    "date1 = datetime.date(2018,12,23)\n",
    "print('date1:',date1)\n",
    "if date1 == before_six_days :\n",
    "    print('Same Dates')\n",
    "if date_today > date1:\n",
    "    print('Past Date')\n",
    "if date1 < after_six_days:\n",
    "    print('Future Date')"
   ]
  },
  {
   "cell_type": "code",
   "execution_count": null,
   "metadata": {},
   "outputs": [],
   "source": []
  }
 ],
 "metadata": {
  "kernelspec": {
   "display_name": "Python 3",
   "language": "python",
   "name": "python3"
  },
  "language_info": {
   "codemirror_mode": {
    "name": "ipython",
    "version": 3
   },
   "file_extension": ".py",
   "mimetype": "text/x-python",
   "name": "python",
   "nbconvert_exporter": "python",
   "pygments_lexer": "ipython3",
   "version": "3.7.2"
  }
 },
 "nbformat": 4,
 "nbformat_minor": 2
}
